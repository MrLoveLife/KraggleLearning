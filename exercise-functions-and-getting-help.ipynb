{
 "cells": [
  {
   "cell_type": "markdown",
   "id": "9f5994b9",
   "metadata": {
    "papermill": {
     "duration": 0.004819,
     "end_time": "2025-01-06T23:28:50.960939",
     "exception": false,
     "start_time": "2025-01-06T23:28:50.956120",
     "status": "completed"
    },
    "tags": []
   },
   "source": [
    "**This notebook is an exercise in the [Python](https://www.kaggle.com/learn/python) course.  You can reference the tutorial at [this link](https://www.kaggle.com/colinmorris/functions-and-getting-help).**\n",
    "\n",
    "---\n"
   ]
  },
  {
   "cell_type": "markdown",
   "id": "f9125db9",
   "metadata": {
    "papermill": {
     "duration": 0.00377,
     "end_time": "2025-01-06T23:28:50.970632",
     "exception": false,
     "start_time": "2025-01-06T23:28:50.966862",
     "status": "completed"
    },
    "tags": []
   },
   "source": [
    "Functions are powerful. Try writing some yourself.\n",
    "\n",
    "As before, don't forget to run the setup code below before jumping into question 1."
   ]
  },
  {
   "cell_type": "code",
   "execution_count": 1,
   "id": "90287b36",
   "metadata": {
    "_kg_hide-input": true,
    "_kg_hide-output": true,
    "execution": {
     "iopub.execute_input": "2025-01-06T23:28:50.979919Z",
     "iopub.status.busy": "2025-01-06T23:28:50.979512Z",
     "iopub.status.idle": "2025-01-06T23:28:51.414162Z",
     "shell.execute_reply": "2025-01-06T23:28:51.412894Z"
    },
    "papermill": {
     "duration": 0.441337,
     "end_time": "2025-01-06T23:28:51.416047",
     "exception": false,
     "start_time": "2025-01-06T23:28:50.974710",
     "status": "completed"
    },
    "tags": []
   },
   "outputs": [
    {
     "name": "stdout",
     "output_type": "stream",
     "text": [
      "Setup complete.\n"
     ]
    }
   ],
   "source": [
    "# SETUP. You don't need to worry for now about what this code does or how it works.\n",
    "from learntools.core import binder; binder.bind(globals())\n",
    "from learntools.python.ex2 import *\n",
    "print('Setup complete.')"
   ]
  },
  {
   "cell_type": "markdown",
   "id": "fb70c19d",
   "metadata": {
    "papermill": {
     "duration": 0.003913,
     "end_time": "2025-01-06T23:28:51.424260",
     "exception": false,
     "start_time": "2025-01-06T23:28:51.420347",
     "status": "completed"
    },
    "tags": []
   },
   "source": [
    "# 1.\n",
    "\n",
    "Complete the body of the following function according to its docstring.\n",
    "\n",
    "HINT: Python has a built-in function `round`."
   ]
  },
  {
   "cell_type": "code",
   "execution_count": 2,
   "id": "ad6dc7ef",
   "metadata": {
    "execution": {
     "iopub.execute_input": "2025-01-06T23:28:51.433933Z",
     "iopub.status.busy": "2025-01-06T23:28:51.433426Z",
     "iopub.status.idle": "2025-01-06T23:28:51.442197Z",
     "shell.execute_reply": "2025-01-06T23:28:51.441183Z"
    },
    "papermill": {
     "duration": 0.015339,
     "end_time": "2025-01-06T23:28:51.443722",
     "exception": false,
     "start_time": "2025-01-06T23:28:51.428383",
     "status": "completed"
    },
    "tags": []
   },
   "outputs": [
    {
     "data": {
      "application/javascript": [
       "parent.postMessage({\"jupyterEvent\": \"custom.exercise_interaction\", \"data\": {\"outcomeType\": 1, \"valueTowardsCompletion\": 0.16666666666666666, \"interactionType\": 1, \"questionType\": 2, \"questionId\": \"1_RoundFunctionProblem\", \"learnToolsVersion\": \"0.3.4\", \"failureMessage\": \"\", \"exceptionClass\": \"\", \"trace\": \"\"}}, \"*\")"
      ],
      "text/plain": [
       "<IPython.core.display.Javascript object>"
      ]
     },
     "metadata": {},
     "output_type": "display_data"
    },
    {
     "data": {
      "text/markdown": [
       "<span style=\"color:#33cc33\">Correct</span>"
      ],
      "text/plain": [
       "Correct"
      ]
     },
     "metadata": {},
     "output_type": "display_data"
    }
   ],
   "source": [
    "def round_to_two_places(num):\n",
    "    \"\"\"Return the given number rounded to two decimal places. \n",
    "    \n",
    "    >>> round_to_two_places(3.14159)\n",
    "    3.14\n",
    "    \"\"\"\n",
    "    # Replace this body with your own code.\n",
    "    # (\"pass\" is a keyword that does literally nothing. We used it as a placeholder\n",
    "    # because after we begin a code block, Python requires at least one line of code)\n",
    "    return round(num,ndigits=2)\n",
    "    \n",
    "# Check your answer\n",
    "q1.check()"
   ]
  },
  {
   "cell_type": "code",
   "execution_count": 3,
   "id": "f8b5f5f9",
   "metadata": {
    "execution": {
     "iopub.execute_input": "2025-01-06T23:28:51.453931Z",
     "iopub.status.busy": "2025-01-06T23:28:51.453465Z",
     "iopub.status.idle": "2025-01-06T23:28:51.457466Z",
     "shell.execute_reply": "2025-01-06T23:28:51.456523Z"
    },
    "papermill": {
     "duration": 0.010889,
     "end_time": "2025-01-06T23:28:51.459197",
     "exception": false,
     "start_time": "2025-01-06T23:28:51.448308",
     "status": "completed"
    },
    "tags": []
   },
   "outputs": [],
   "source": [
    "# Uncomment the following for a hint\n",
    "#q1.hint()\n",
    "# Or uncomment the following to peek at the solution\n",
    "#q1.solution()"
   ]
  },
  {
   "cell_type": "markdown",
   "id": "d3430659",
   "metadata": {
    "papermill": {
     "duration": 0.004029,
     "end_time": "2025-01-06T23:28:51.467769",
     "exception": false,
     "start_time": "2025-01-06T23:28:51.463740",
     "status": "completed"
    },
    "tags": []
   },
   "source": [
    "# 2.\n",
    "The help for `round` says that `ndigits` (the second argument) may be negative.\n",
    "What do you think will happen when it is? Try some examples in the following cell."
   ]
  },
  {
   "cell_type": "code",
   "execution_count": 4,
   "id": "36486fec",
   "metadata": {
    "execution": {
     "iopub.execute_input": "2025-01-06T23:28:51.477932Z",
     "iopub.status.busy": "2025-01-06T23:28:51.477493Z",
     "iopub.status.idle": "2025-01-06T23:28:51.482671Z",
     "shell.execute_reply": "2025-01-06T23:28:51.481724Z"
    },
    "papermill": {
     "duration": 0.012128,
     "end_time": "2025-01-06T23:28:51.484380",
     "exception": false,
     "start_time": "2025-01-06T23:28:51.472252",
     "status": "completed"
    },
    "tags": []
   },
   "outputs": [
    {
     "name": "stdout",
     "output_type": "stream",
     "text": [
      "123500\n"
     ]
    }
   ],
   "source": [
    "# Put your test code here\n",
    "print(round(123456,ndigits = -2))"
   ]
  },
  {
   "cell_type": "markdown",
   "id": "1e02b611",
   "metadata": {
    "papermill": {
     "duration": 0.004142,
     "end_time": "2025-01-06T23:28:51.493199",
     "exception": false,
     "start_time": "2025-01-06T23:28:51.489057",
     "status": "completed"
    },
    "tags": []
   },
   "source": [
    "Can you think of a case where this would be useful?  Once you're ready, run the code cell below to see the answer and to receive credit for completing the problem."
   ]
  },
  {
   "cell_type": "code",
   "execution_count": 5,
   "id": "6bd598bf",
   "metadata": {
    "execution": {
     "iopub.execute_input": "2025-01-06T23:28:51.504061Z",
     "iopub.status.busy": "2025-01-06T23:28:51.503633Z",
     "iopub.status.idle": "2025-01-06T23:28:51.511481Z",
     "shell.execute_reply": "2025-01-06T23:28:51.510504Z"
    },
    "papermill": {
     "duration": 0.015337,
     "end_time": "2025-01-06T23:28:51.513064",
     "exception": false,
     "start_time": "2025-01-06T23:28:51.497727",
     "status": "completed"
    },
    "tags": []
   },
   "outputs": [
    {
     "data": {
      "application/javascript": [
       "parent.postMessage({\"jupyterEvent\": \"custom.exercise_interaction\", \"data\": {\"interactionType\": 3, \"questionType\": 4, \"questionId\": \"2_RoundNdigitsProblem\", \"learnToolsVersion\": \"0.3.4\", \"valueTowardsCompletion\": 0.0, \"failureMessage\": \"\", \"exceptionClass\": \"\", \"trace\": \"\", \"outcomeType\": 4}}, \"*\")"
      ],
      "text/plain": [
       "<IPython.core.display.Javascript object>"
      ]
     },
     "metadata": {},
     "output_type": "display_data"
    },
    {
     "data": {
      "text/markdown": [
       "<span style=\"color:#33cc99\">Solution:</span> As you've seen, `ndigits=-1` rounds to the nearest 10, `ndigits=-2` rounds to the nearest 100 and so on. Where might this be useful? Suppose we're dealing with large numbers:\n",
       "\n",
       "> The area of Finland is 338,424 km²  \n",
       "> The area of Greenland is 2,166,086 km²\n",
       "\n",
       "We probably don't care whether it's really 338,424, or 338,425, or 338,177. All those digits of accuracy are just distracting. We can chop them off by calling `round()` with `ndigits=-3`:\n",
       "\n",
       "> The area of Finland is 338,000 km²  \n",
       "> The area of Greenland is 2,166,000 km²\n",
       "\n",
       "(We'll talk about how we would get the commas later when we talk about string formatting :))\n"
      ],
      "text/plain": [
       "Solution: As you've seen, `ndigits=-1` rounds to the nearest 10, `ndigits=-2` rounds to the nearest 100 and so on. Where might this be useful? Suppose we're dealing with large numbers:\n",
       "\n",
       "> The area of Finland is 338,424 km²  \n",
       "> The area of Greenland is 2,166,086 km²\n",
       "\n",
       "We probably don't care whether it's really 338,424, or 338,425, or 338,177. All those digits of accuracy are just distracting. We can chop them off by calling `round()` with `ndigits=-3`:\n",
       "\n",
       "> The area of Finland is 338,000 km²  \n",
       "> The area of Greenland is 2,166,000 km²\n",
       "\n",
       "(We'll talk about how we would get the commas later when we talk about string formatting :))"
      ]
     },
     "metadata": {},
     "output_type": "display_data"
    }
   ],
   "source": [
    "# Check your answer (Run this code cell to receive credit!)\n",
    "q2.solution()"
   ]
  },
  {
   "cell_type": "markdown",
   "id": "3262cdb6",
   "metadata": {
    "papermill": {
     "duration": 0.004391,
     "end_time": "2025-01-06T23:28:51.522220",
     "exception": false,
     "start_time": "2025-01-06T23:28:51.517829",
     "status": "completed"
    },
    "tags": []
   },
   "source": [
    "# 3.\n",
    "\n",
    "In the previous exercise, the candy-sharing friends Alice, Bob and Carol tried to split candies evenly. For the sake of their friendship, any candies left over would be smashed. For example, if they collectively bring home 91 candies, they'll take 30 each and smash 1.\n",
    "\n",
    "Below is a simple function that will calculate the number of candies to smash for *any* number of total candies.\n",
    "\n",
    "Modify it so that it optionally takes a second argument representing the number of friends the candies are being split between. If no second argument is provided, it should assume 3 friends, as before.\n",
    "\n",
    "Update the docstring to reflect this new behaviour."
   ]
  },
  {
   "cell_type": "code",
   "execution_count": 6,
   "id": "748c7f43",
   "metadata": {
    "execution": {
     "iopub.execute_input": "2025-01-06T23:28:51.533154Z",
     "iopub.status.busy": "2025-01-06T23:28:51.532727Z",
     "iopub.status.idle": "2025-01-06T23:28:51.540655Z",
     "shell.execute_reply": "2025-01-06T23:28:51.539817Z"
    },
    "papermill": {
     "duration": 0.015407,
     "end_time": "2025-01-06T23:28:51.542270",
     "exception": false,
     "start_time": "2025-01-06T23:28:51.526863",
     "status": "completed"
    },
    "tags": []
   },
   "outputs": [
    {
     "data": {
      "application/javascript": [
       "parent.postMessage({\"jupyterEvent\": \"custom.exercise_interaction\", \"data\": {\"outcomeType\": 1, \"valueTowardsCompletion\": 0.16666666666666666, \"interactionType\": 1, \"questionType\": 2, \"questionId\": \"3_CandySmashingFunctionProblem\", \"learnToolsVersion\": \"0.3.4\", \"failureMessage\": \"\", \"exceptionClass\": \"\", \"trace\": \"\"}}, \"*\")"
      ],
      "text/plain": [
       "<IPython.core.display.Javascript object>"
      ]
     },
     "metadata": {},
     "output_type": "display_data"
    },
    {
     "data": {
      "text/markdown": [
       "<span style=\"color:#33cc33\">Correct</span>"
      ],
      "text/plain": [
       "Correct"
      ]
     },
     "metadata": {},
     "output_type": "display_data"
    }
   ],
   "source": [
    "def to_smash(total_candies,number_friends=3):\n",
    "    \"\"\"Return the number of leftover candies that must be smashed after distributing\n",
    "    the given number of candies evenly between 3 friends.\n",
    "    \n",
    "    >>> to_smash(91)\n",
    "    1\n",
    "    \"\"\"\n",
    "    return total_candies % number_friends\n",
    "\n",
    "# Check your answer\n",
    "q3.check()"
   ]
  },
  {
   "cell_type": "code",
   "execution_count": 7,
   "id": "a772a5be",
   "metadata": {
    "execution": {
     "iopub.execute_input": "2025-01-06T23:28:51.555836Z",
     "iopub.status.busy": "2025-01-06T23:28:51.555335Z",
     "iopub.status.idle": "2025-01-06T23:28:51.560253Z",
     "shell.execute_reply": "2025-01-06T23:28:51.559085Z"
    },
    "papermill": {
     "duration": 0.013996,
     "end_time": "2025-01-06T23:28:51.562137",
     "exception": false,
     "start_time": "2025-01-06T23:28:51.548141",
     "status": "completed"
    },
    "tags": []
   },
   "outputs": [],
   "source": [
    "#q3.hint()"
   ]
  },
  {
   "cell_type": "code",
   "execution_count": 8,
   "id": "92187c60",
   "metadata": {
    "execution": {
     "iopub.execute_input": "2025-01-06T23:28:51.573592Z",
     "iopub.status.busy": "2025-01-06T23:28:51.573213Z",
     "iopub.status.idle": "2025-01-06T23:28:51.577203Z",
     "shell.execute_reply": "2025-01-06T23:28:51.576126Z"
    },
    "papermill": {
     "duration": 0.011919,
     "end_time": "2025-01-06T23:28:51.579163",
     "exception": false,
     "start_time": "2025-01-06T23:28:51.567244",
     "status": "completed"
    },
    "tags": []
   },
   "outputs": [],
   "source": [
    "#q3.solution()"
   ]
  },
  {
   "cell_type": "markdown",
   "id": "07545f39",
   "metadata": {
    "papermill": {
     "duration": 0.004711,
     "end_time": "2025-01-06T23:28:51.588988",
     "exception": false,
     "start_time": "2025-01-06T23:28:51.584277",
     "status": "completed"
    },
    "tags": []
   },
   "source": [
    "# 4. (Optional)\n",
    "\n",
    "It may not be fun, but reading and understanding error messages will be an important part of your Python career.\n",
    "\n",
    "Each code cell below contains some commented buggy code. For each cell...\n",
    "\n",
    "1. Read the code and predict what you think will happen when it's run.\n",
    "2. Then uncomment the code and run it to see what happens. (**Tip**: In the kernel editor, you can highlight several lines and press `ctrl`+`/` to toggle commenting.)\n",
    "3. Fix the code (so that it accomplishes its intended purpose without throwing an exception)\n",
    "\n",
    "<!-- TODO: should this be autochecked? Delta is probably pretty small. -->"
   ]
  },
  {
   "cell_type": "code",
   "execution_count": 9,
   "id": "abdc849e",
   "metadata": {
    "execution": {
     "iopub.execute_input": "2025-01-06T23:28:51.599827Z",
     "iopub.status.busy": "2025-01-06T23:28:51.599440Z",
     "iopub.status.idle": "2025-01-06T23:28:51.604745Z",
     "shell.execute_reply": "2025-01-06T23:28:51.603849Z"
    },
    "papermill": {
     "duration": 0.01253,
     "end_time": "2025-01-06T23:28:51.606339",
     "exception": false,
     "start_time": "2025-01-06T23:28:51.593809",
     "status": "completed"
    },
    "tags": []
   },
   "outputs": [
    {
     "data": {
      "text/plain": [
       "10.0"
      ]
     },
     "execution_count": 9,
     "metadata": {},
     "output_type": "execute_result"
    }
   ],
   "source": [
    "round_to_two_places(9.9999)"
   ]
  },
  {
   "cell_type": "code",
   "execution_count": 10,
   "id": "c5a8c7b9",
   "metadata": {
    "execution": {
     "iopub.execute_input": "2025-01-06T23:28:51.617591Z",
     "iopub.status.busy": "2025-01-06T23:28:51.617246Z",
     "iopub.status.idle": "2025-01-06T23:28:51.621328Z",
     "shell.execute_reply": "2025-01-06T23:28:51.620355Z"
    },
    "papermill": {
     "duration": 0.01149,
     "end_time": "2025-01-06T23:28:51.622920",
     "exception": false,
     "start_time": "2025-01-06T23:28:51.611430",
     "status": "completed"
    },
    "tags": []
   },
   "outputs": [],
   "source": [
    "x = -10\n",
    "y = 5\n",
    "# Which of the two variables above has the smallest absolute value?\n",
    "smallest_abs = min(abs(x),abs(y))"
   ]
  },
  {
   "cell_type": "code",
   "execution_count": 11,
   "id": "4246ca28",
   "metadata": {
    "execution": {
     "iopub.execute_input": "2025-01-06T23:28:51.634178Z",
     "iopub.status.busy": "2025-01-06T23:28:51.633837Z",
     "iopub.status.idle": "2025-01-06T23:28:51.638445Z",
     "shell.execute_reply": "2025-01-06T23:28:51.637475Z"
    },
    "papermill": {
     "duration": 0.012174,
     "end_time": "2025-01-06T23:28:51.640148",
     "exception": false,
     "start_time": "2025-01-06T23:28:51.627974",
     "status": "completed"
    },
    "tags": []
   },
   "outputs": [
    {
     "name": "stdout",
     "output_type": "stream",
     "text": [
      "5\n"
     ]
    }
   ],
   "source": [
    "def f(x):\n",
    "    y = abs(x)\n",
    "    return y\n",
    "\n",
    "print(f(5))"
   ]
  },
  {
   "cell_type": "markdown",
   "id": "531a91ab",
   "metadata": {
    "papermill": {
     "duration": 0.004845,
     "end_time": "2025-01-06T23:28:51.650149",
     "exception": false,
     "start_time": "2025-01-06T23:28:51.645304",
     "status": "completed"
    },
    "tags": []
   },
   "source": [
    "# Keep Going\n",
    "\n",
    "Nice job with the code. Next up, you'll learn about *conditionals*, which you'll need to **[write interesting programs](https://www.kaggle.com/colinmorris/booleans-and-conditionals)**. "
   ]
  },
  {
   "cell_type": "markdown",
   "id": "ba0cbc4d",
   "metadata": {
    "papermill": {
     "duration": 0.004624,
     "end_time": "2025-01-06T23:28:51.659724",
     "exception": false,
     "start_time": "2025-01-06T23:28:51.655100",
     "status": "completed"
    },
    "tags": []
   },
   "source": [
    "---\n",
    "\n",
    "\n",
    "\n",
    "\n",
    "*Have questions or comments? Visit the [course discussion forum](https://www.kaggle.com/learn/python/discussion) to chat with other learners.*"
   ]
  }
 ],
 "metadata": {
  "kaggle": {
   "accelerator": "none",
   "dataSources": [],
   "isGpuEnabled": false,
   "isInternetEnabled": false,
   "language": "python",
   "sourceType": "notebook"
  },
  "kernelspec": {
   "display_name": "Python 3",
   "language": "python",
   "name": "python3"
  },
  "language_info": {
   "codemirror_mode": {
    "name": "ipython",
    "version": 3
   },
   "file_extension": ".py",
   "mimetype": "text/x-python",
   "name": "python",
   "nbconvert_exporter": "python",
   "pygments_lexer": "ipython3",
   "version": "3.10.12"
  },
  "learntools_metadata": {
   "lesson_index": 1,
   "type": "exercise"
  },
  "papermill": {
   "default_parameters": {},
   "duration": 3.49879,
   "end_time": "2025-01-06T23:28:52.184471",
   "environment_variables": {},
   "exception": null,
   "input_path": "__notebook__.ipynb",
   "output_path": "__notebook__.ipynb",
   "parameters": {},
   "start_time": "2025-01-06T23:28:48.685681",
   "version": "2.6.0"
  }
 },
 "nbformat": 4,
 "nbformat_minor": 5
}
