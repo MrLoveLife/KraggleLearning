{
 "cells": [
  {
   "cell_type": "markdown",
   "id": "70b6618a",
   "metadata": {
    "papermill": {
     "duration": 0.006015,
     "end_time": "2025-01-06T23:27:57.086777",
     "exception": false,
     "start_time": "2025-01-06T23:27:57.080762",
     "status": "completed"
    },
    "tags": []
   },
   "source": [
    "Welcome to your first set of Python coding problems.  If this is your first time using Kaggle Notebooks, welcome! \n",
    "\n",
    "Notebooks are composed of blocks (called \"cells\") of text and code. Each of these is editable, though you'll mainly be editing the code cells to answer some questions.\n",
    "\n",
    "To get started, try running the code cell below (by pressing the ► button, or clicking on the cell and pressing ctrl+enter on your keyboard)."
   ]
  },
  {
   "cell_type": "code",
   "execution_count": 1,
   "id": "388ef8a6",
   "metadata": {
    "execution": {
     "iopub.execute_input": "2025-01-06T23:27:57.098948Z",
     "iopub.status.busy": "2025-01-06T23:27:57.098536Z",
     "iopub.status.idle": "2025-01-06T23:27:57.106340Z",
     "shell.execute_reply": "2025-01-06T23:27:57.105116Z"
    },
    "papermill": {
     "duration": 0.015804,
     "end_time": "2025-01-06T23:27:57.107940",
     "exception": false,
     "start_time": "2025-01-06T23:27:57.092136",
     "status": "completed"
    },
    "tags": []
   },
   "outputs": [
    {
     "name": "stdout",
     "output_type": "stream",
     "text": [
      "You've successfully run some Python code\n",
      "Congratulations!\n"
     ]
    }
   ],
   "source": [
    "print(\"You've successfully run some Python code\")\n",
    "print(\"Congratulations!\")"
   ]
  },
  {
   "cell_type": "markdown",
   "id": "a9cf188f",
   "metadata": {
    "papermill": {
     "duration": 0.005091,
     "end_time": "2025-01-06T23:27:57.118501",
     "exception": false,
     "start_time": "2025-01-06T23:27:57.113410",
     "status": "completed"
    },
    "tags": []
   },
   "source": [
    "Try adding another line of code in the cell above and re-running it. \n",
    "\n",
    "Now let's get a little fancier:  Add a new code cell by clicking on an existing code cell, hitting the escape key, and then hitting the `a` or `b` key.  The `a` key will add a cell above the current cell, and `b` adds a cell below.\n",
    "\n",
    "Great! Now you know how to use Notebooks.\n",
    "\n",
    "Each hands-on exercise starts by setting up our feedback and code checking mechanism. Run the code cell below to do that. Then you'll be ready to move on to question 0."
   ]
  },
  {
   "cell_type": "markdown",
   "id": "d55554ed",
   "metadata": {
    "papermill": {
     "duration": 0.004831,
     "end_time": "2025-01-06T23:27:57.128513",
     "exception": false,
     "start_time": "2025-01-06T23:27:57.123682",
     "status": "completed"
    },
    "tags": []
   },
   "source": [
    "**This notebook is an exercise in the [Python](https://www.kaggle.com/learn/python) course.  You can reference the tutorial at [this link](https://www.kaggle.com/colinmorris/hello-python).**\n",
    "\n",
    "---\n"
   ]
  },
  {
   "cell_type": "code",
   "execution_count": 2,
   "id": "b0eb1aa1",
   "metadata": {
    "execution": {
     "iopub.execute_input": "2025-01-06T23:27:57.140068Z",
     "iopub.status.busy": "2025-01-06T23:27:57.139716Z",
     "iopub.status.idle": "2025-01-06T23:27:57.144014Z",
     "shell.execute_reply": "2025-01-06T23:27:57.142631Z"
    },
    "papermill": {
     "duration": 0.012167,
     "end_time": "2025-01-06T23:27:57.145841",
     "exception": false,
     "start_time": "2025-01-06T23:27:57.133674",
     "status": "completed"
    },
    "tags": []
   },
   "outputs": [],
   "source": [
    "# create a variable called color with an appropriate value on the line below\n",
    "# (Remember, strings in Python must be enclosed in 'single' or \"double\" quotes)\n",
    "# ____\n",
    "# Check your answer\n",
    "# q0.check()"
   ]
  },
  {
   "cell_type": "markdown",
   "id": "69497862",
   "metadata": {
    "papermill": {
     "duration": 0.00499,
     "end_time": "2025-01-06T23:27:57.156386",
     "exception": false,
     "start_time": "2025-01-06T23:27:57.151396",
     "status": "completed"
    },
    "tags": []
   },
   "source": [
    "# 0.\n",
    "\n",
    "*This is a silly question intended as an introduction to the format we use for hands-on exercises throughout all Kaggle courses.*\n",
    "\n",
    "**What is your favorite color? **\n",
    "\n",
    "To complete this question, create a variable called `color` in the cell below with an appropriate value. The function call `q0.check()` (which we've already provided in the cell below) will check your answer."
   ]
  },
  {
   "cell_type": "code",
   "execution_count": 3,
   "id": "eba72643",
   "metadata": {
    "_kg_hide-input": true,
    "_kg_hide-output": true,
    "execution": {
     "iopub.execute_input": "2025-01-06T23:27:57.168165Z",
     "iopub.status.busy": "2025-01-06T23:27:57.167780Z",
     "iopub.status.idle": "2025-01-06T23:27:57.587486Z",
     "shell.execute_reply": "2025-01-06T23:27:57.586383Z"
    },
    "papermill": {
     "duration": 0.427597,
     "end_time": "2025-01-06T23:27:57.589156",
     "exception": false,
     "start_time": "2025-01-06T23:27:57.161559",
     "status": "completed"
    },
    "tags": []
   },
   "outputs": [
    {
     "name": "stdout",
     "output_type": "stream",
     "text": [
      "Setup complete! You're ready to start question 0.\n"
     ]
    }
   ],
   "source": [
    "from learntools.core import binder; binder.bind(globals())\n",
    "from learntools.python.ex1 import *\n",
    "print(\"Setup complete! You're ready to start question 0.\")"
   ]
  },
  {
   "cell_type": "markdown",
   "id": "8c3ce93a",
   "metadata": {
    "papermill": {
     "duration": 0.005205,
     "end_time": "2025-01-06T23:27:57.600069",
     "exception": false,
     "start_time": "2025-01-06T23:27:57.594864",
     "status": "completed"
    },
    "tags": []
   },
   "source": [
    "Didn't get the right answer? How do you not even know your own favorite color?!\n",
    "\n",
    "Delete the `#` in the line below to make one of the lines run. You can choose between getting a hint or the full answer by choosing which line to remove the `#` from. \n",
    "\n",
    "Removing the `#` is called uncommenting, because it changes that line from a \"comment\" which Python doesn't run to code, which Python does run."
   ]
  },
  {
   "cell_type": "code",
   "execution_count": 4,
   "id": "67ebb34e",
   "metadata": {
    "execution": {
     "iopub.execute_input": "2025-01-06T23:27:57.612377Z",
     "iopub.status.busy": "2025-01-06T23:27:57.611882Z",
     "iopub.status.idle": "2025-01-06T23:27:57.620395Z",
     "shell.execute_reply": "2025-01-06T23:27:57.619381Z"
    },
    "papermill": {
     "duration": 0.016451,
     "end_time": "2025-01-06T23:27:57.621982",
     "exception": false,
     "start_time": "2025-01-06T23:27:57.605531",
     "status": "completed"
    },
    "tags": []
   },
   "outputs": [
    {
     "data": {
      "application/javascript": [
       "parent.postMessage({\"jupyterEvent\": \"custom.exercise_interaction\", \"data\": {\"interactionType\": 2, \"questionType\": 2, \"questionId\": \"0_ExerciseFormatTutorial\", \"learnToolsVersion\": \"0.3.4\", \"valueTowardsCompletion\": 0.0, \"failureMessage\": \"\", \"exceptionClass\": \"\", \"trace\": \"\", \"outcomeType\": 4}}, \"*\")"
      ],
      "text/plain": [
       "<IPython.core.display.Javascript object>"
      ]
     },
     "metadata": {},
     "output_type": "display_data"
    },
    {
     "data": {
      "text/markdown": [
       "<span style=\"color:#3366cc\">Hint:</span> Your favorite color rhymes with *glue*."
      ],
      "text/plain": [
       "Hint: Your favorite color rhymes with *glue*."
      ]
     },
     "metadata": {},
     "output_type": "display_data"
    }
   ],
   "source": [
    "q0.hint()\n",
    "color = 'bright'\n",
    "# q0 = color\n",
    "\n",
    "# q0.solution()"
   ]
  },
  {
   "cell_type": "markdown",
   "id": "e1fda788",
   "metadata": {
    "papermill": {
     "duration": 0.005884,
     "end_time": "2025-01-06T23:27:57.633580",
     "exception": false,
     "start_time": "2025-01-06T23:27:57.627696",
     "status": "completed"
    },
    "tags": []
   },
   "source": [
    "The upcoming questions work the same way. The only thing that will change are the question numbers. For the next question, you'll call `q1.check()`, `q1.hint()`, `q1.solution()`, for question 2, you'll call `q2.check()`, and so on."
   ]
  },
  {
   "cell_type": "markdown",
   "id": "5ee0b6a3",
   "metadata": {
    "papermill": {
     "duration": 0.005431,
     "end_time": "2025-01-06T23:27:57.644895",
     "exception": false,
     "start_time": "2025-01-06T23:27:57.639464",
     "status": "completed"
    },
    "tags": []
   },
   "source": [
    "<hr/>\n",
    "\n",
    "# 1.\n",
    "\n",
    "Complete the code below. In case it's helpful, here is the table of available arithmetic operations:\n",
    "\n",
    "\n",
    "\n",
    "| Operator     | Name           | Description                                            |\n",
    "|--------------|----------------|--------------------------------------------------------|\n",
    "| ``a + b``    | Addition       | Sum of ``a`` and ``b``                                 |\n",
    "| ``a - b``    | Subtraction    | Difference of ``a`` and ``b``                          |\n",
    "| ``a * b``    | Multiplication | Product of ``a`` and ``b``                             |\n",
    "| ``a / b``    | True division  | Quotient of ``a`` and ``b``                            |\n",
    "| ``a // b``   | Floor division | Quotient of ``a`` and ``b``, removing fractional parts |\n",
    "| ``a % b``    | Modulus        | Integer remainder after division of ``a`` by ``b``     |\n",
    "| ``a ** b``   | Exponentiation | ``a`` raised to the power of ``b``                     |\n",
    "| ``-a``       | Negation       | The negative of ``a``                                  |\n",
    "\n",
    "<span style=\"display:none\"></span>\n"
   ]
  },
  {
   "cell_type": "code",
   "execution_count": 5,
   "id": "b230f3d5",
   "metadata": {
    "execution": {
     "iopub.execute_input": "2025-01-06T23:27:57.657282Z",
     "iopub.status.busy": "2025-01-06T23:27:57.656898Z",
     "iopub.status.idle": "2025-01-06T23:27:57.664870Z",
     "shell.execute_reply": "2025-01-06T23:27:57.663878Z"
    },
    "papermill": {
     "duration": 0.016324,
     "end_time": "2025-01-06T23:27:57.666733",
     "exception": false,
     "start_time": "2025-01-06T23:27:57.650409",
     "status": "completed"
    },
    "tags": []
   },
   "outputs": [
    {
     "data": {
      "application/javascript": [
       "parent.postMessage({\"jupyterEvent\": \"custom.exercise_interaction\", \"data\": {\"outcomeType\": 1, \"valueTowardsCompletion\": 0.25, \"interactionType\": 1, \"questionType\": 1, \"questionId\": \"1_CircleArea\", \"learnToolsVersion\": \"0.3.4\", \"failureMessage\": \"\", \"exceptionClass\": \"\", \"trace\": \"\"}}, \"*\")"
      ],
      "text/plain": [
       "<IPython.core.display.Javascript object>"
      ]
     },
     "metadata": {},
     "output_type": "display_data"
    },
    {
     "data": {
      "text/markdown": [
       "<span style=\"color:#33cc33\">Correct</span>"
      ],
      "text/plain": [
       "Correct"
      ]
     },
     "metadata": {},
     "output_type": "display_data"
    }
   ],
   "source": [
    "pi = 3.14159 # approximate\n",
    "diameter = 3\n",
    "\n",
    "# Create a variable called 'radius' equal to half the diameter\n",
    "radius = 0.5*diameter\n",
    "# Create a variable called 'area', using the formula for the area of a circle: pi times the radius squared\n",
    "area = pi*radius**2\n",
    "# Check your answer\n",
    "q1.check()"
   ]
  },
  {
   "cell_type": "code",
   "execution_count": 6,
   "id": "81d88677",
   "metadata": {
    "execution": {
     "iopub.execute_input": "2025-01-06T23:27:57.679839Z",
     "iopub.status.busy": "2025-01-06T23:27:57.679479Z",
     "iopub.status.idle": "2025-01-06T23:27:57.683255Z",
     "shell.execute_reply": "2025-01-06T23:27:57.682253Z"
    },
    "papermill": {
     "duration": 0.012114,
     "end_time": "2025-01-06T23:27:57.684836",
     "exception": false,
     "start_time": "2025-01-06T23:27:57.672722",
     "status": "completed"
    },
    "tags": []
   },
   "outputs": [],
   "source": [
    "# Uncomment and run the lines below if you need help.\n",
    "#q1.hint()\n",
    "#q1.solution()"
   ]
  },
  {
   "cell_type": "markdown",
   "id": "cb8a4e99",
   "metadata": {
    "papermill": {
     "duration": 0.005697,
     "end_time": "2025-01-06T23:27:57.696534",
     "exception": false,
     "start_time": "2025-01-06T23:27:57.690837",
     "status": "completed"
    },
    "tags": []
   },
   "source": [
    "<hr/>\n",
    "\n",
    "# 2.\n",
    "\n",
    "Add code to the following cell to swap variables `a` and `b` (so that `a` refers to the object previously referred to by `b` and vice versa)."
   ]
  },
  {
   "cell_type": "code",
   "execution_count": 7,
   "id": "a95456c1",
   "metadata": {
    "execution": {
     "iopub.execute_input": "2025-01-06T23:27:57.709646Z",
     "iopub.status.busy": "2025-01-06T23:27:57.709272Z",
     "iopub.status.idle": "2025-01-06T23:27:57.717112Z",
     "shell.execute_reply": "2025-01-06T23:27:57.716073Z"
    },
    "papermill": {
     "duration": 0.01648,
     "end_time": "2025-01-06T23:27:57.718801",
     "exception": false,
     "start_time": "2025-01-06T23:27:57.702321",
     "status": "completed"
    },
    "tags": []
   },
   "outputs": [
    {
     "data": {
      "application/javascript": [
       "parent.postMessage({\"jupyterEvent\": \"custom.exercise_interaction\", \"data\": {\"outcomeType\": 1, \"valueTowardsCompletion\": 0.25, \"interactionType\": 1, \"questionType\": 2, \"questionId\": \"2_VariableSwap\", \"learnToolsVersion\": \"0.3.4\", \"failureMessage\": \"\", \"exceptionClass\": \"\", \"trace\": \"\"}}, \"*\")"
      ],
      "text/plain": [
       "<IPython.core.display.Javascript object>"
      ]
     },
     "metadata": {},
     "output_type": "display_data"
    },
    {
     "data": {
      "text/markdown": [
       "<span style=\"color:#33cc33\">Correct:</span> \n",
       "\n",
       "The most straightforward solution is to use a third variable to temporarily store one of the old values. e.g.:\n",
       "\n",
       "    tmp = a\n",
       "    a = b\n",
       "    b = tmp\n",
       "\n",
       "If you've read lots of Python code, you might have seen the following trick to swap two variables in one line:\n",
       "\n",
       "    a, b = b, a\n",
       "\n",
       "We'll demystify this bit of Python magic later when we talk about *tuples*."
      ],
      "text/plain": [
       "Correct: \n",
       "\n",
       "The most straightforward solution is to use a third variable to temporarily store one of the old values. e.g.:\n",
       "\n",
       "    tmp = a\n",
       "    a = b\n",
       "    b = tmp\n",
       "\n",
       "If you've read lots of Python code, you might have seen the following trick to swap two variables in one line:\n",
       "\n",
       "    a, b = b, a\n",
       "\n",
       "We'll demystify this bit of Python magic later when we talk about *tuples*."
      ]
     },
     "metadata": {},
     "output_type": "display_data"
    }
   ],
   "source": [
    "########### Setup code - don't touch this part ######################\n",
    "# If you're curious, these are examples of lists. We'll talk about \n",
    "# them in depth a few lessons from now. For now, just know that they're\n",
    "# yet another type of Python object, like int or float.\n",
    "a = [1, 2, 3]\n",
    "b = [3, 2, 1]\n",
    "q2.store_original_ids()\n",
    "######################################################################\n",
    "\n",
    "# Your code goes here. Swap the values to which a and b refer.\n",
    "# If you get stuck, you can always uncomment one or both of the lines in\n",
    "# the next cell for a hint, or to peek at the solution.\n",
    "c = a\n",
    "a = b\n",
    "b = c\n",
    "######################################################################\n",
    "\n",
    "# Check your answer\n",
    "q2.check()"
   ]
  },
  {
   "cell_type": "code",
   "execution_count": 8,
   "id": "23e3fe13",
   "metadata": {
    "execution": {
     "iopub.execute_input": "2025-01-06T23:27:57.732217Z",
     "iopub.status.busy": "2025-01-06T23:27:57.731842Z",
     "iopub.status.idle": "2025-01-06T23:27:57.735768Z",
     "shell.execute_reply": "2025-01-06T23:27:57.734795Z"
    },
    "papermill": {
     "duration": 0.012342,
     "end_time": "2025-01-06T23:27:57.737400",
     "exception": false,
     "start_time": "2025-01-06T23:27:57.725058",
     "status": "completed"
    },
    "tags": []
   },
   "outputs": [],
   "source": [
    "#q2.hint()"
   ]
  },
  {
   "cell_type": "code",
   "execution_count": 9,
   "id": "708ad846",
   "metadata": {
    "execution": {
     "iopub.execute_input": "2025-01-06T23:27:57.751460Z",
     "iopub.status.busy": "2025-01-06T23:27:57.751090Z",
     "iopub.status.idle": "2025-01-06T23:27:57.754793Z",
     "shell.execute_reply": "2025-01-06T23:27:57.753939Z"
    },
    "papermill": {
     "duration": 0.012442,
     "end_time": "2025-01-06T23:27:57.756495",
     "exception": false,
     "start_time": "2025-01-06T23:27:57.744053",
     "status": "completed"
    },
    "tags": []
   },
   "outputs": [],
   "source": [
    "#q2.solution()"
   ]
  },
  {
   "cell_type": "markdown",
   "id": "c91fbb88",
   "metadata": {
    "papermill": {
     "duration": 0.005967,
     "end_time": "2025-01-06T23:27:57.768830",
     "exception": false,
     "start_time": "2025-01-06T23:27:57.762863",
     "status": "completed"
    },
    "tags": []
   },
   "source": [
    "<hr/>\n",
    "\n",
    "# 3a.\n",
    "\n",
    "Add parentheses to the following expression so that it evaluates to 1."
   ]
  },
  {
   "cell_type": "code",
   "execution_count": 10,
   "id": "e62db8e6",
   "metadata": {
    "execution": {
     "iopub.execute_input": "2025-01-06T23:27:57.782567Z",
     "iopub.status.busy": "2025-01-06T23:27:57.782151Z",
     "iopub.status.idle": "2025-01-06T23:27:57.787496Z",
     "shell.execute_reply": "2025-01-06T23:27:57.786571Z"
    },
    "papermill": {
     "duration": 0.014044,
     "end_time": "2025-01-06T23:27:57.789098",
     "exception": false,
     "start_time": "2025-01-06T23:27:57.775054",
     "status": "completed"
    },
    "tags": []
   },
   "outputs": [
    {
     "data": {
      "text/plain": [
       "1"
      ]
     },
     "execution_count": 10,
     "metadata": {},
     "output_type": "execute_result"
    }
   ],
   "source": [
    "(5 - 3) // 2"
   ]
  },
  {
   "cell_type": "code",
   "execution_count": 11,
   "id": "4547e507",
   "metadata": {
    "execution": {
     "iopub.execute_input": "2025-01-06T23:27:57.803724Z",
     "iopub.status.busy": "2025-01-06T23:27:57.803298Z",
     "iopub.status.idle": "2025-01-06T23:27:57.807284Z",
     "shell.execute_reply": "2025-01-06T23:27:57.806284Z"
    },
    "papermill": {
     "duration": 0.013354,
     "end_time": "2025-01-06T23:27:57.808996",
     "exception": false,
     "start_time": "2025-01-06T23:27:57.795642",
     "status": "completed"
    },
    "tags": []
   },
   "outputs": [],
   "source": [
    "#q3.a.hint()"
   ]
  },
  {
   "cell_type": "code",
   "execution_count": 12,
   "id": "79ddc40d",
   "metadata": {
    "execution": {
     "iopub.execute_input": "2025-01-06T23:27:57.823172Z",
     "iopub.status.busy": "2025-01-06T23:27:57.822824Z",
     "iopub.status.idle": "2025-01-06T23:27:57.830140Z",
     "shell.execute_reply": "2025-01-06T23:27:57.829146Z"
    },
    "papermill": {
     "duration": 0.016332,
     "end_time": "2025-01-06T23:27:57.831882",
     "exception": false,
     "start_time": "2025-01-06T23:27:57.815550",
     "status": "completed"
    },
    "tags": []
   },
   "outputs": [
    {
     "data": {
      "application/javascript": [
       "parent.postMessage({\"jupyterEvent\": \"custom.exercise_interaction\", \"data\": {\"interactionType\": 3, \"questionType\": 4, \"questionId\": \"3.1_ArithmeticParensEasy\", \"learnToolsVersion\": \"0.3.4\", \"valueTowardsCompletion\": 0.0, \"failureMessage\": \"\", \"exceptionClass\": \"\", \"trace\": \"\", \"outcomeType\": 4}}, \"*\")"
      ],
      "text/plain": [
       "<IPython.core.display.Javascript object>"
      ]
     },
     "metadata": {},
     "output_type": "display_data"
    },
    {
     "data": {
      "text/markdown": [
       "<span style=\"color:#33cc99\">Solution:</span> \n",
       "```python\n",
       "(5 - 3) // 2\n",
       "```"
      ],
      "text/plain": [
       "Solution: \n",
       "```python\n",
       "(5 - 3) // 2\n",
       "```"
      ]
     },
     "metadata": {},
     "output_type": "display_data"
    }
   ],
   "source": [
    "# Check your answer (Run this code cell to receive credit!)\n",
    "q3.a.solution()"
   ]
  },
  {
   "cell_type": "markdown",
   "id": "9cdc3efa",
   "metadata": {
    "papermill": {
     "duration": 0.006374,
     "end_time": "2025-01-06T23:27:57.845014",
     "exception": false,
     "start_time": "2025-01-06T23:27:57.838640",
     "status": "completed"
    },
    "tags": []
   },
   "source": [
    "# 3b.  <span title=\"A bit spicy\" style=\"color: darkgreen \">🌶️</span>\n",
    "\n",
    "<small>Questions, like this one, marked a spicy pepper are a bit harder.</small>\n",
    "\n",
    "Add parentheses to the following expression so that it evaluates to 0."
   ]
  },
  {
   "cell_type": "code",
   "execution_count": 13,
   "id": "8af9b037",
   "metadata": {
    "execution": {
     "iopub.execute_input": "2025-01-06T23:27:57.863371Z",
     "iopub.status.busy": "2025-01-06T23:27:57.862986Z",
     "iopub.status.idle": "2025-01-06T23:27:57.868876Z",
     "shell.execute_reply": "2025-01-06T23:27:57.867792Z"
    },
    "papermill": {
     "duration": 0.016192,
     "end_time": "2025-01-06T23:27:57.870580",
     "exception": false,
     "start_time": "2025-01-06T23:27:57.854388",
     "status": "completed"
    },
    "tags": []
   },
   "outputs": [
    {
     "data": {
      "text/plain": [
       "0"
      ]
     },
     "execution_count": 13,
     "metadata": {},
     "output_type": "execute_result"
    }
   ],
   "source": [
    "8 - 3 * 2 - (1 + 1)"
   ]
  },
  {
   "cell_type": "code",
   "execution_count": 14,
   "id": "c3bd123e",
   "metadata": {
    "execution": {
     "iopub.execute_input": "2025-01-06T23:27:57.885391Z",
     "iopub.status.busy": "2025-01-06T23:27:57.884984Z",
     "iopub.status.idle": "2025-01-06T23:27:57.888834Z",
     "shell.execute_reply": "2025-01-06T23:27:57.887788Z"
    },
    "papermill": {
     "duration": 0.012931,
     "end_time": "2025-01-06T23:27:57.890366",
     "exception": false,
     "start_time": "2025-01-06T23:27:57.877435",
     "status": "completed"
    },
    "tags": []
   },
   "outputs": [],
   "source": [
    "#q3.b.hint()"
   ]
  },
  {
   "cell_type": "code",
   "execution_count": 15,
   "id": "a0611724",
   "metadata": {
    "execution": {
     "iopub.execute_input": "2025-01-06T23:27:57.905088Z",
     "iopub.status.busy": "2025-01-06T23:27:57.904735Z",
     "iopub.status.idle": "2025-01-06T23:27:57.912081Z",
     "shell.execute_reply": "2025-01-06T23:27:57.911083Z"
    },
    "papermill": {
     "duration": 0.016593,
     "end_time": "2025-01-06T23:27:57.913748",
     "exception": false,
     "start_time": "2025-01-06T23:27:57.897155",
     "status": "completed"
    },
    "tags": []
   },
   "outputs": [
    {
     "data": {
      "application/javascript": [
       "parent.postMessage({\"jupyterEvent\": \"custom.exercise_interaction\", \"data\": {\"interactionType\": 3, \"questionType\": 4, \"questionId\": \"3.2_ArithmeticParensHard\", \"learnToolsVersion\": \"0.3.4\", \"valueTowardsCompletion\": 0.0, \"failureMessage\": \"\", \"exceptionClass\": \"\", \"trace\": \"\", \"outcomeType\": 4}}, \"*\")"
      ],
      "text/plain": [
       "<IPython.core.display.Javascript object>"
      ]
     },
     "metadata": {},
     "output_type": "display_data"
    },
    {
     "data": {
      "text/markdown": [
       "<span style=\"color:#33cc99\">Solution:</span> `(8 - 3) * (2 - (1 + 1))` is one solution. There may be others."
      ],
      "text/plain": [
       "Solution: `(8 - 3) * (2 - (1 + 1))` is one solution. There may be others."
      ]
     },
     "metadata": {},
     "output_type": "display_data"
    }
   ],
   "source": [
    "# Check your answer (Run this code cell to receive credit!)\n",
    "q3.b.solution()"
   ]
  },
  {
   "cell_type": "markdown",
   "id": "d0d11cb9",
   "metadata": {
    "papermill": {
     "duration": 0.006434,
     "end_time": "2025-01-06T23:27:57.927892",
     "exception": false,
     "start_time": "2025-01-06T23:27:57.921458",
     "status": "completed"
    },
    "tags": []
   },
   "source": [
    "<hr/>\n",
    "\n",
    "# 4. \n",
    "Alice, Bob and Carol have agreed to pool their Halloween candy and split it evenly among themselves.\n",
    "For the sake of their friendship, any candies left over will be smashed. For example, if they collectively\n",
    "bring home 91 candies, they'll take 30 each and smash 1.\n",
    "\n",
    "Write an arithmetic expression below to calculate how many candies they must smash for a given haul."
   ]
  },
  {
   "cell_type": "code",
   "execution_count": 16,
   "id": "648632cc",
   "metadata": {
    "execution": {
     "iopub.execute_input": "2025-01-06T23:27:57.943044Z",
     "iopub.status.busy": "2025-01-06T23:27:57.942694Z",
     "iopub.status.idle": "2025-01-06T23:27:57.950415Z",
     "shell.execute_reply": "2025-01-06T23:27:57.949386Z"
    },
    "papermill": {
     "duration": 0.01876,
     "end_time": "2025-01-06T23:27:57.953366",
     "exception": false,
     "start_time": "2025-01-06T23:27:57.934606",
     "status": "completed"
    },
    "tags": []
   },
   "outputs": [
    {
     "data": {
      "application/javascript": [
       "parent.postMessage({\"jupyterEvent\": \"custom.exercise_interaction\", \"data\": {\"outcomeType\": 1, \"valueTowardsCompletion\": 0.25, \"interactionType\": 1, \"questionType\": 1, \"questionId\": \"4_CandySplitting\", \"learnToolsVersion\": \"0.3.4\", \"failureMessage\": \"\", \"exceptionClass\": \"\", \"trace\": \"\"}}, \"*\")"
      ],
      "text/plain": [
       "<IPython.core.display.Javascript object>"
      ]
     },
     "metadata": {},
     "output_type": "display_data"
    },
    {
     "data": {
      "text/markdown": [
       "<span style=\"color:#33cc33\">Correct</span>"
      ],
      "text/plain": [
       "Correct"
      ]
     },
     "metadata": {},
     "output_type": "display_data"
    }
   ],
   "source": [
    "# Variables representing the number of candies collected by alice, bob, and carol\n",
    "alice_candies = 121\n",
    "bob_candies = 77\n",
    "carol_candies = 109\n",
    "\n",
    "# Your code goes here! Replace the right-hand side of this assignment with an expression\n",
    "# involving alice_candies, bob_candies, and carol_candies\n",
    "to_smash = -1\n",
    "to_smash = (alice_candies+bob_candies+carol_candies)%3\n",
    "# Check your answer\n",
    "q4.check()"
   ]
  },
  {
   "cell_type": "code",
   "execution_count": 17,
   "id": "175906d0",
   "metadata": {
    "execution": {
     "iopub.execute_input": "2025-01-06T23:27:57.969597Z",
     "iopub.status.busy": "2025-01-06T23:27:57.969170Z",
     "iopub.status.idle": "2025-01-06T23:27:57.976396Z",
     "shell.execute_reply": "2025-01-06T23:27:57.975439Z"
    },
    "papermill": {
     "duration": 0.017084,
     "end_time": "2025-01-06T23:27:57.978033",
     "exception": false,
     "start_time": "2025-01-06T23:27:57.960949",
     "status": "completed"
    },
    "tags": []
   },
   "outputs": [
    {
     "data": {
      "application/javascript": [
       "parent.postMessage({\"jupyterEvent\": \"custom.exercise_interaction\", \"data\": {\"interactionType\": 3, \"questionType\": 1, \"questionId\": \"4_CandySplitting\", \"learnToolsVersion\": \"0.3.4\", \"valueTowardsCompletion\": 0.0, \"failureMessage\": \"\", \"exceptionClass\": \"\", \"trace\": \"\", \"outcomeType\": 4}}, \"*\")"
      ],
      "text/plain": [
       "<IPython.core.display.Javascript object>"
      ]
     },
     "metadata": {},
     "output_type": "display_data"
    },
    {
     "data": {
      "text/markdown": [
       "<span style=\"color:#33cc99\">Solution:</span> \n",
       "```python\n",
       "(alice_candies + bob_candies + carol_candies) % 3\n",
       "```"
      ],
      "text/plain": [
       "Solution: \n",
       "```python\n",
       "(alice_candies + bob_candies + carol_candies) % 3\n",
       "```"
      ]
     },
     "metadata": {},
     "output_type": "display_data"
    }
   ],
   "source": [
    "#q4.hint()\n",
    "q4.solution()"
   ]
  },
  {
   "cell_type": "markdown",
   "id": "3324f8dd",
   "metadata": {
    "papermill": {
     "duration": 0.00699,
     "end_time": "2025-01-06T23:27:57.992578",
     "exception": false,
     "start_time": "2025-01-06T23:27:57.985588",
     "status": "completed"
    },
    "tags": []
   },
   "source": [
    "# Keep Going\n",
    "\n",
    "Next up, you'll **[learn to write new functions and understand functions others write](https://www.kaggle.com/colinmorris/functions-and-getting-help)**. This will make you at least 10 times more productive as a Python programmer. "
   ]
  },
  {
   "cell_type": "markdown",
   "id": "39fd796b",
   "metadata": {
    "papermill": {
     "duration": 0.007073,
     "end_time": "2025-01-06T23:27:58.006805",
     "exception": false,
     "start_time": "2025-01-06T23:27:57.999732",
     "status": "completed"
    },
    "tags": []
   },
   "source": [
    "---\n",
    "\n",
    "\n",
    "\n",
    "\n",
    "*Have questions or comments? Visit the [course discussion forum](https://www.kaggle.com/learn/python/discussion) to chat with other learners.*"
   ]
  }
 ],
 "metadata": {
  "kaggle": {
   "accelerator": "none",
   "dataSources": [],
   "isGpuEnabled": false,
   "isInternetEnabled": false,
   "language": "python",
   "sourceType": "notebook"
  },
  "kernelspec": {
   "display_name": "Python 3",
   "language": "python",
   "name": "python3"
  },
  "language_info": {
   "codemirror_mode": {
    "name": "ipython",
    "version": 3
   },
   "file_extension": ".py",
   "mimetype": "text/x-python",
   "name": "python",
   "nbconvert_exporter": "python",
   "pygments_lexer": "ipython3",
   "version": "3.10.12"
  },
  "learntools_metadata": {
   "lesson_index": 0,
   "type": "exercise"
  },
  "papermill": {
   "default_parameters": {},
   "duration": 3.612935,
   "end_time": "2025-01-06T23:27:58.535320",
   "environment_variables": {},
   "exception": null,
   "input_path": "__notebook__.ipynb",
   "output_path": "__notebook__.ipynb",
   "parameters": {},
   "start_time": "2025-01-06T23:27:54.922385",
   "version": "2.6.0"
  }
 },
 "nbformat": 4,
 "nbformat_minor": 5
}
